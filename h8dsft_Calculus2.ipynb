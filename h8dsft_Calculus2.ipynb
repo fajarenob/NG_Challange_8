{
  "nbformat": 4,
  "nbformat_minor": 0,
  "metadata": {
    "colab": {
      "name": "h8dsft_Calculus2.ipynb",
      "provenance": []
    },
    "kernelspec": {
      "name": "python3",
      "display_name": "Python 3"
    },
    "language_info": {
      "name": "python"
    }
  },
  "cells": [
    {
      "cell_type": "code",
      "metadata": {
        "colab": {
          "base_uri": "https://localhost:8080/"
        },
        "id": "Twqnx0ll2BwY",
        "outputId": "72547825-4958-4669-fdac-2616f26dbb00"
      },
      "source": [
        "pip install scipy"
      ],
      "execution_count": 1,
      "outputs": [
        {
          "output_type": "stream",
          "name": "stdout",
          "text": [
            "Requirement already satisfied: scipy in /usr/local/lib/python3.7/dist-packages (1.4.1)\n",
            "Requirement already satisfied: numpy>=1.13.3 in /usr/local/lib/python3.7/dist-packages (from scipy) (1.19.5)\n"
          ]
        }
      ]
    },
    {
      "cell_type": "code",
      "metadata": {
        "id": "0CKaAiv72I06"
      },
      "source": [
        "from scipy.integrate import quad\n",
        "import sympy as sym\n",
        "import numpy as np\n",
        "import matplotlib.pyplot as plt\n",
        "from sympy import exp, sin, cos, pi"
      ],
      "execution_count": 2,
      "outputs": []
    },
    {
      "cell_type": "code",
      "metadata": {
        "colab": {
          "base_uri": "https://localhost:8080/",
          "height": 39
        },
        "id": "Cil2Ujvl0zAh",
        "outputId": "5a05623e-f1b7-454f-bdd8-ac8752811737"
      },
      "source": [
        "x = sym.Symbol('x')\n",
        "f = 3*x**2 - 6*x +3\n",
        "sym.integrate(f) #bisa langsung masukkin sym.integrate(masukkin fungsinya)"
      ],
      "execution_count": 3,
      "outputs": [
        {
          "output_type": "execute_result",
          "data": {
            "text/latex": "$\\displaystyle x^{3} - 3 x^{2} + 3 x$",
            "text/plain": [
              "x**3 - 3*x**2 + 3*x"
            ]
          },
          "metadata": {},
          "execution_count": 3
        }
      ]
    },
    {
      "cell_type": "markdown",
      "metadata": {
        "id": "tDZnYpFv_mdP"
      },
      "source": [
        "##integral tentu"
      ]
    },
    {
      "cell_type": "code",
      "metadata": {
        "colab": {
          "base_uri": "https://localhost:8080/",
          "height": 286
        },
        "id": "KrPuexU_9L6d",
        "outputId": "b2834076-306b-415e-c414-7bb93981b12c"
      },
      "source": [
        "#gambar grafik\n",
        "def f(x):\n",
        "  return 3*x**2 - 6*x +3\n",
        "\n",
        "x = np.linspace(-2,5, 1000)\n",
        "plt.plot(x,f(x))"
      ],
      "execution_count": 4,
      "outputs": [
        {
          "output_type": "execute_result",
          "data": {
            "text/plain": [
              "[<matplotlib.lines.Line2D at 0x7fa9aec03850>]"
            ]
          },
          "metadata": {},
          "execution_count": 4
        },
        {
          "output_type": "display_data",
          "data": {
            "image/png": "[encoded data removed]",
            "text/plain": [
              "<Figure size 432x288 with 1 Axes>"
            ]
          },
          "metadata": {
            "needs_background": "light"
          }
        }
      ]
    },
    {
      "cell_type": "code",
      "metadata": {
        "colab": {
          "base_uri": "https://localhost:8080/",
          "height": 286
        },
        "id": "uPJ5ZTN4-XLV",
        "outputId": "8e57fa80-0113-4016-b9c4-3cd0a88764b5"
      },
      "source": [
        "def f(x):\n",
        "  return 3*x**2 - 6*x +3\n",
        "\n",
        "x = np.linspace(-2,5, 1000)\n",
        "plt.plot(x,f(x))\n",
        "#ngisi daerah untuk integral tentu --> gunakan plt.fill_between(x, f(x), where [intervalnya for x in x])\n",
        "plt.fill_between(x, f(x), where = [(x>-1) and (x<3) for x in x])"
      ],
      "execution_count": 5,
      "outputs": [
        {
          "output_type": "execute_result",
          "data": {
            "text/plain": [
              "<matplotlib.collections.PolyCollection at 0x7fa9ae970790>"
            ]
          },
          "metadata": {},
          "execution_count": 5
        },
        {
          "output_type": "display_data",
          "data": {
            "image/png": "[encoded data removed]",
            "text/plain": [
              "<Figure size 432x288 with 1 Axes>"
            ]
          },
          "metadata": {
            "needs_background": "light"
          }
        }
      ]
    },
    {
      "cell_type": "code",
      "metadata": {
        "colab": {
          "base_uri": "https://localhost:8080/",
          "height": 38
        },
        "id": "ZOxRx71N_r0r",
        "outputId": "c71db597-2536-4631-ca1b-fe6520655a6f"
      },
      "source": [
        "#buat lagi buat nentuin berapa integral tentunya --> gunakan sym.integrate (fungsinya,(x,interval 1,interval 2))\n",
        "x = sym.Symbol('x')\n",
        "f = 3*x**2 - 6*x +3\n",
        "sym.integrate(f, (x,-1, 3))"
      ],
      "execution_count": 6,
      "outputs": [
        {
          "output_type": "execute_result",
          "data": {
            "text/latex": "$\\displaystyle 16$",
            "text/plain": [
              "16"
            ]
          },
          "metadata": {},
          "execution_count": 6
        }
      ]
    },
    {
      "cell_type": "code",
      "metadata": {
        "colab": {
          "base_uri": "https://localhost:8080/"
        },
        "id": "nUKNan8zB0s6",
        "outputId": "766b2e42-ecf7-4d79-f079-447df1e6a2f5"
      },
      "source": [
        "#versi lain cari integral tentu\n",
        "def f(x):\n",
        "  return 3*x**2 - 6*x +3\n",
        "\n",
        "quad(f,-1,3)[0]"
      ],
      "execution_count": 7,
      "outputs": [
        {
          "output_type": "execute_result",
          "data": {
            "text/plain": [
              "16.0"
            ]
          },
          "metadata": {},
          "execution_count": 7
        }
      ]
    },
    {
      "cell_type": "markdown",
      "metadata": {
        "id": "lCi-fvgM57fU"
      },
      "source": [
        "#2. Hitung integral 8x3 - x2 + 5x -1"
      ]
    },
    {
      "cell_type": "code",
      "metadata": {
        "colab": {
          "base_uri": "https://localhost:8080/",
          "height": 54
        },
        "id": "LRMl4P5u1J2I",
        "outputId": "8f89c245-cc2b-4527-eeea-7593d8e90d53"
      },
      "source": [
        "x = sym.Symbol('x')\n",
        "sym.integrate(8*x**3 - x**2 + 5*x- 1)"
      ],
      "execution_count": 8,
      "outputs": [
        {
          "output_type": "execute_result",
          "data": {
            "text/latex": "$\\displaystyle 2 x^{4} - \\frac{x^{3}}{3} + \\frac{5 x^{2}}{2} - x$",
            "text/plain": [
              "2*x**4 - x**3/3 + 5*x**2/2 - x"
            ]
          },
          "metadata": {},
          "execution_count": 8
        }
      ]
    },
    {
      "cell_type": "markdown",
      "metadata": {
        "id": "1rAbXZtX774D"
      },
      "source": [
        "#3. Hitung integral e(x2 - 2x - 1)"
      ]
    },
    {
      "cell_type": "code",
      "metadata": {
        "colab": {
          "base_uri": "https://localhost:8080/",
          "height": 54
        },
        "id": "ZvgJE5oU77Lr",
        "outputId": "78b795b8-56c4-4c15-9711-3f241b793a55"
      },
      "source": [
        "x = sym.Symbol('x')\n",
        "f = sym.exp(x**2 - 2*x - 1)\n",
        "sym.integrate(f)"
      ],
      "execution_count": 9,
      "outputs": [
        {
          "output_type": "execute_result",
          "data": {
            "text/latex": "$\\displaystyle \\frac{\\sqrt{\\pi} \\operatorname{erfi}{\\left(x - 1 \\right)}}{2 e^{2}}$",
            "text/plain": [
              "sqrt(pi)*exp(-2)*erfi(x - 1)/2"
            ]
          },
          "metadata": {},
          "execution_count": 9
        }
      ]
    },
    {
      "cell_type": "code",
      "metadata": {
        "colab": {
          "base_uri": "https://localhost:8080/",
          "height": 294
        },
        "id": "aYqMvTPCCrRs",
        "outputId": "2aafb96d-2870-4706-a996-52999664d327"
      },
      "source": [
        "#integral tentu\n",
        "#gambar grafik\n",
        "def f(x):\n",
        "  return np.exp(x**2 - 2*x - 1) #pakenya np, bukan sym\n",
        "\n",
        "x = np.linspace(-2,5, 1000)\n",
        "plt.plot(x,f(x))"
      ],
      "execution_count": 10,
      "outputs": [
        {
          "output_type": "execute_result",
          "data": {
            "text/plain": [
              "[<matplotlib.lines.Line2D at 0x7fa9ae1ba350>]"
            ]
          },
          "metadata": {},
          "execution_count": 10
        },
        {
          "output_type": "display_data",
          "data": {
            "image/png": "[encoded data removed]",
            "text/plain": [
              "<Figure size 432x288 with 1 Axes>"
            ]
          },
          "metadata": {
            "needs_background": "light"
          }
        }
      ]
    },
    {
      "cell_type": "code",
      "metadata": {
        "colab": {
          "base_uri": "https://localhost:8080/",
          "height": 294
        },
        "id": "oviEP65hDQtC",
        "outputId": "670fc9cc-afb5-449e-fb0b-9ee51f3de2ee"
      },
      "source": [
        "def f(x):\n",
        "  return np.exp(x**2 - 2*x - 1) #pakenya np, bukan sym\n",
        "\n",
        "x = np.linspace(-2,5, 1000)\n",
        "plt.plot(x,f(x))\n",
        "plt.fill_between(x, f(x), where = [(x>1) and (x<5) for x in x], color='red')"
      ],
      "execution_count": 11,
      "outputs": [
        {
          "output_type": "execute_result",
          "data": {
            "text/plain": [
              "<matplotlib.collections.PolyCollection at 0x7fa9ae12eb90>"
            ]
          },
          "metadata": {},
          "execution_count": 11
        },
        {
          "output_type": "display_data",
          "data": {
            "image/png": "[encoded data removed]",
            "text/plain": [
              "<Figure size 432x288 with 1 Axes>"
            ]
          },
          "metadata": {
            "needs_background": "light"
          }
        }
      ]
    },
    {
      "cell_type": "code",
      "metadata": {
        "colab": {
          "base_uri": "https://localhost:8080/",
          "height": 54
        },
        "id": "rby21FBAEY8K",
        "outputId": "ae0846db-d3c4-458e-c258-82375bae6434"
      },
      "source": [
        "x = sym.Symbol('x') #--> harus tulis ini dulu\n",
        "f = sym.exp(x**2 - 2*x - 1)\n",
        "sym.integrate(f, (x, 1, 5))"
      ],
      "execution_count": 12,
      "outputs": [
        {
          "output_type": "execute_result",
          "data": {
            "text/latex": "$\\displaystyle \\frac{\\sqrt{\\pi} \\operatorname{erfi}{\\left(4 \\right)}}{2 e^{2}}$",
            "text/plain": [
              "sqrt(pi)*exp(-2)*erfi(4)/2"
            ]
          },
          "metadata": {},
          "execution_count": 12
        }
      ]
    },
    {
      "cell_type": "code",
      "metadata": {
        "colab": {
          "base_uri": "https://localhost:8080/",
          "height": 54
        },
        "id": "IgG-CbCUFghd",
        "outputId": "b3aa906c-f88b-455a-adea-51fbb14bed54"
      },
      "source": [
        "x = sym.Symbol('x') #--> harus tulis ini dulu\n",
        "f = sym.exp(x**2 - 2*x - 1)\n",
        "sym.integrate(f, (x, 1, 5))"
      ],
      "execution_count": 13,
      "outputs": [
        {
          "output_type": "execute_result",
          "data": {
            "text/latex": "$\\displaystyle \\frac{\\sqrt{\\pi} \\operatorname{erfi}{\\left(4 \\right)}}{2 e^{2}}$",
            "text/plain": [
              "sqrt(pi)*exp(-2)*erfi(4)/2"
            ]
          },
          "metadata": {},
          "execution_count": 13
        }
      ]
    }
  ]
}